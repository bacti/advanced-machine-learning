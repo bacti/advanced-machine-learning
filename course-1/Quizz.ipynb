{
 "cells": [
  {
   "cell_type": "code",
   "execution_count": 1,
   "metadata": {},
   "outputs": [],
   "source": [
    "import tensorflow as tf\n",
    "import numpy as np"
   ]
  },
  {
   "cell_type": "markdown",
   "metadata": {},
   "source": [
    "### Linear models"
   ]
  },
  {
   "cell_type": "markdown",
   "metadata": {},
   "source": [
    "Consider a vector $(1, -2, 0.5)$. Apply a softmax transform to it and enter the first component (accurate to 2 decimal places)."
   ]
  },
  {
   "cell_type": "code",
   "execution_count": 2,
   "metadata": {},
   "outputs": [
    {
     "data": {
      "text/plain": [
       "<tf.Tensor: shape=(), dtype=float32, numpy=0.6037489>"
      ]
     },
     "execution_count": 2,
     "metadata": {},
     "output_type": "execute_result"
    }
   ],
   "source": [
    "tf.nn.softmax([1, -2, 0.5])[0]"
   ]
  },
  {
   "cell_type": "markdown",
   "metadata": {},
   "source": [
    "Suppose you are solving a 5-class classification problem with 10 features. How many parameters a linear model would have? Don't forget bias terms!"
   ]
  },
  {
   "cell_type": "code",
   "execution_count": 3,
   "metadata": {},
   "outputs": [
    {
     "data": {
      "text/plain": [
       "55"
      ]
     },
     "execution_count": 3,
     "metadata": {},
     "output_type": "execute_result"
    }
   ],
   "source": [
    "(10 + 1) * 5"
   ]
  },
  {
   "cell_type": "markdown",
   "metadata": {},
   "source": [
    "There is an analytical solution for linear regression parameters and MSE loss, but we usually prefer gradient descent optimization over it. What are the reasons?\n",
    "+ [ ] Gradient descent is a method developed especially for MSE loss\n",
    "+ [ ] Gradient descent can find parameter values that give lower MSE value than parameters from analytical solution\n",
    "+ [x] Gradient descent doesn't require to invert a matrix\n",
    "+ [x] Gradient descent is more scalable and can be applied for problems with high number of features"
   ]
  },
  {
   "cell_type": "markdown",
   "metadata": {},
   "source": [
    "### Overfitting and regularization"
   ]
  },
  {
   "cell_type": "markdown",
   "metadata": {},
   "source": [
    "Select correct statements about overfitting:\n",
    "* [ ] Overfitting is a situation where a model gives comparable quality on new data and on a training sample\n",
    "* [x] Large model weights can indicate that model is overfitted\n",
    "* [ ] Overfitting happens when model is too simple for the problem\n",
    "* [x] Overfitting is a situation where a model gives lower quality for new data compared to quality on a training sample"
   ]
  },
  {
   "cell_type": "markdown",
   "metadata": {},
   "source": [
    "What disadvantages do model validation on holdout sample have?\n",
    "* [x] It is sensitive to the particular split of the sample into training and test parts\n",
    "* [ ] It requires multiple model fitting\n",
    "* [x] It can give biased quality estimates for small samples"
   ]
  },
  {
   "cell_type": "markdown",
   "metadata": {},
   "source": [
    "Suppose you are using k-fold cross-validation to assess model quality. How many times should you train the model during this procedure?\n",
    "* [ ] $1$\n",
    "* [x] $k$\n",
    "* [ ] $k(k-1)/2$\n",
    "* [ ] $k^2$"
   ]
  },
  {
   "cell_type": "markdown",
   "metadata": {},
   "source": [
    "Select correct statements about regularization:\n",
    "* [ ] Reducing the training sample size makes data simpler and then leads to better quality\n",
    "* [x] Regularization restricts model complexity (namely the scale of the coefficients) to reduce overfitting\n",
    "* [ ] Weight penalty reduces the number of model parameters and leads to faster model training\n",
    "* [x] Weight penalty drives model parameters closer to zero and prevents the model from being too sensitive to small changes in features"
   ]
  },
  {
   "cell_type": "markdown",
   "metadata": {},
   "source": [
    "### Multilayer perceptron"
   ]
  },
  {
   "cell_type": "markdown",
   "metadata": {},
   "source": [
    "Choose the correct statements about MLP\n",
    "* [ ] The first hidden layer contains predictions for your task\n",
    "* [x] A hidden layer of MLP automatically learns new helpful features for the task\n",
    "* [x] We can train MLP with SGD\n",
    "* [ ] MLP can have only 1 hidden layer\n",
    "* [ ] MLP with a linear activation function is better than a linear model"
   ]
  },
  {
   "cell_type": "markdown",
   "metadata": {},
   "source": [
    "Apply a chain rule to calculate $\\frac{\\partial a}{\\partial x}$ where $a(x, y) = sin(xy)\\cdot e^x$.  \n",
    "Here is an example of the syntax: `sin(x * y) * exp(x)`, more info [here](https://learner.coursera.help/hc/en-us/articles/208279916-Math-assignments).\n",
    "\n",
    "**$$\\left(y\\cos{\\left(xy\\right)} + \\sin{\\left(xy\\right)}\\right) e^{x}$$**"
   ]
  },
  {
   "cell_type": "markdown",
   "metadata": {},
   "source": [
    "Choose the correct statements about backpropagation\n",
    "* [x] It is an efficient way to apply a chain rule\n",
    "* [ ] You can use non-differentiable loss to train your MLP\n",
    "* [x] It is the way to train modern neural networks\n",
    "* [ ] It is done in one pass"
   ]
  },
  {
   "cell_type": "markdown",
   "metadata": {},
   "source": [
    "What is the time complexity of backpropagation algorithm w.r.t. number of edges $N$ in the computational graph?\n",
    "* [x] $O(N)$\n",
    "* [ ] $O(log(N))$\n",
    "* [ ] $O(N!)$\n",
    "* [ ] $O(N^2)$"
   ]
  },
  {
   "cell_type": "markdown",
   "metadata": {},
   "source": [
    "### Matrix derivatives"
   ]
  },
  {
   "cell_type": "markdown",
   "metadata": {},
   "source": [
    "Choose the correct statements about MLP implementation:\n",
    "* [x] You can write both passes of a dense layer with NumPy and make it quick even in Python\n",
    "* [ ] You shouldn't prefer matrix operations when working with GPU\n",
    "* [x] A forward pass of a dense layer can be done with matrix product\n",
    "* [ ] A backward pass of a dense layer needs a 4-d tensor derivative"
   ]
  },
  {
   "cell_type": "markdown",
   "metadata": {},
   "source": [
    "How many dimensions will a derivative of a 3-d tensor by a 4-d tensor have?  \n",
    "$3 + 4 = 7$"
   ]
  },
  {
   "cell_type": "markdown",
   "metadata": {},
   "source": [
    "Let's play around with matrix derivatives.  \n",
    "A trace $Tr(X)$ of a matrix $X$ is a sum of its diagonal elements.  \n",
    "For example: $Tr\\begin{pmatrix}1&3\\\\3&1\\end{pmatrix} = 1+1 = 2$. Note that trace is a scalar.  \n",
    "Let's find a matrix notation for $\\frac{\\partial Tr(X^2)}{\\partial X}$ for matrix $X = \\begin{pmatrix}x_{1,1}&x_{1,2}\\\\x_{2,1}&x_{2,2}\\end{pmatrix}$, where $X^2$ is a matrix product  $X\\cdot X$.\n",
    "\n",
    "Please do this element-wise and figure out a matrix notation for it:\n",
    "* [ ] $Tr(2X)$\n",
    "* [ ] $2Tr(X^T)$\n",
    "* [ ] $X^TX$\n",
    "* [x] $2X^T$\n",
    "* [ ] $2X$"
   ]
  },
  {
   "cell_type": "markdown",
   "metadata": {},
   "source": [
    "### Convolutions and pooling"
   ]
  },
  {
   "cell_type": "markdown",
   "metadata": {},
   "source": [
    "Choose correct statements about convolutional layer:\n",
    "* [x] Convolutional layer is a special case of a fully-connected layer  \n",
    "    *Convolutional layer can be viewed as a special case of a fully connected layer when all the weights outside*  \n",
    "    *the local receptive field of each output neuron equal 0*  \n",
    "    *and kernel parameters are shared between neurons*\n",
    "* [x] Convolutional layer works the same way for every input patch  \n",
    "    *Because kernel parameters are shared!*\n",
    "* [ ] Convolutional layer provides translation invariance\n",
    "* [ ] Convolutional layer doesn't need a bias term"
   ]
  },
  {
   "cell_type": "markdown",
   "metadata": {},
   "source": [
    "Choose correct statements about pooling layer:\n",
    "* [x] Pooling layer provides translation invariance  \n",
    "    *Remember the slash classifier example? Taking maximum gave us translation invariance.*\n",
    "* [ ] Pooling layer is strictly differentiable\n",
    "* [x] Pooling layer can reduce spatial dimensions (width and height of the input volume)  \n",
    "    *When used with stride > 1*\n",
    "* [ ] Pooling layer reduces the number of convolutional filters  "
   ]
  },
  {
   "cell_type": "markdown",
   "metadata": {},
   "source": [
    "Back-propagation for convolutional layer first calculates the gradients as if the kernel parameters were not shared and then...\n",
    "* [x] Takes a sum of gradients for each shared parameter\n",
    "* [ ] Takes a minimum gradient for each shared parameter\n",
    "* [ ] Takes a maximum gradient for each shared parameter\n",
    "* [ ] Takes a mean of the gradients for each shared parameter"
   ]
  },
  {
   "cell_type": "markdown",
   "metadata": {},
   "source": [
    "Suppose you have a 10x10x3 colour image input and you want to stack two convolutional layers with kernel size 3x3 with 10 and 20 filters respectively. How many parameters do you have to train for these two layers? Don't forget bias terms!"
   ]
  },
  {
   "cell_type": "code",
   "execution_count": 4,
   "metadata": {},
   "outputs": [
    {
     "data": {
      "text/plain": [
       "2100"
      ]
     },
     "execution_count": 4,
     "metadata": {},
     "output_type": "execute_result"
    }
   ],
   "source": [
    "(3 * 3 * 3 + 1) * 10 + (3 * 3 * 10 + 1) * 20"
   ]
  },
  {
   "cell_type": "markdown",
   "metadata": {},
   "source": [
    "What receptive field do we have after stacking $n$ convolutional layers with kernel size $k \\times k$ and stride 1? Layers numeration starts with 1. The resulting receptive field will be a square, input its side as an answer.\n",
    "\n",
    "$k \\times n - n + 1$"
   ]
  },
  {
   "cell_type": "markdown",
   "metadata": {},
   "source": [
    "### Word embeddings"
   ]
  },
  {
   "cell_type": "markdown",
   "metadata": {},
   "source": [
    "Which of the following is true about word2vec model?\n",
    "* [ ] It's outputs (predictions) are linear functions of inputs.\n",
    "* [ ] It uses convolutional layers and pooling.\n",
    "* [ ] It has one trainable parameter per word.\n",
    "* [ ] It requires human-defined semantic relations between words.\n",
    "* [x] It requires some text corpora for training."
   ]
  },
  {
   "cell_type": "markdown",
   "metadata": {},
   "source": [
    "How can you train word2vec model?\n",
    "* [x] By applying stochastic gradient descent.\n",
    "* [ ] By minimizing distance between human-defined synonyms and maximizing distance between antonyms.\n",
    "* [ ] By changing order of words in the corpora.\n",
    "* [x] By minimizing crossentropy (aka maximizing likelihood).\n",
    "* [x] By learning to predict context (neighboring words) given one word.\n",
    "* [x] By learning to predict omitted word by it's context."
   ]
  },
  {
   "cell_type": "markdown",
   "metadata": {},
   "source": [
    "Here's an [online demo](http://bionlp-www.utu.fi/wv_demo/) of word2vec model. Let's use it to find synonyms for rare words.  \n",
    "Don't forget to choose English GoogleNews model.  \n",
    "Which of the following words is in top 10 synonyms for **\"weltschmerz\"**.\n",
    "* [ ] big_bang\n",
    "* [ ] decrystalization\n",
    "* [ ] worldbuilding\n",
    "* [x] despair"
   ]
  },
  {
   "cell_type": "markdown",
   "metadata": {},
   "source": [
    "Which of the following is an appropriate way to measure similarity between word vectors v1 and v2? (more = better)\n",
    "* [x] `-||v1 - v2||`\n",
    "* [x] `cos(v1, v2)`\n",
    "* [ ] `sin(v1, v2)`\n",
    "* [ ] `||v1 - v2||`"
   ]
  },
  {
   "cell_type": "markdown",
   "metadata": {},
   "source": [
    "### RNN and Backpropagation"
   ]
  },
  {
   "cell_type": "markdown",
   "metadata": {},
   "source": [
    "Consider a task with input sequences of fixed length. Could RNN architecture still be useful for such task?\n",
    "* [x] Yes\n",
    "* [ ] No"
   ]
  },
  {
   "cell_type": "markdown",
   "metadata": {},
   "source": [
    "Consider an RNN for a language generation task. $\\hat{y}_t$ is an output of this RNN at each time step, $L$ is a length of the input sequence, $N$ is a number of words in the vocabulary. Choose correct statements about $\\hat{y}_t$:\n",
    "* [x] $\\hat{y}_t$ is a vector of length $N$. \n",
    "* [ ] $\\hat{y}_t$ is a vector of length $(L-t)$.\n",
    "* [ ] $\\hat{y}_t$ is a vector of length $L\\times N$.\n",
    "* [ ] Each element of $\\hat{y}_t$ is either 0 or 1.\n",
    "* [x] Each element of $\\hat{y}_t$ is a number from 0 to 1.\n",
    "* [ ] Each element of $\\hat{y}_t$ is a number from 0 to $N$."
   ]
  },
  {
   "cell_type": "markdown",
   "metadata": {},
   "source": [
    "Consider the RNN from the lecture:  \n",
    "$h_t = f_t(Vx_t+Wh_{t-1}+b_h)$  \n",
    "$\\hat{y}_t = f_y(Uh_t+b_y)$  \n",
    "<img src=\"quizz-.png\" width=800px />\n",
    "\n",
    "Calculate the gradient of the loss $L$ with respect to the bias vector $b_y$. $\\frac{\\partial L}{\\partial b_y} = \\bf{?}$\n",
    "* [ ] $\\frac{\\partial L}{\\partial b_y} = \\frac{\\partial L}{\\partial \\hat{y}_t}\\frac{\\partial \\hat{y}_t}{\\partial b_y}$\n",
    "* [x] $\\frac{\\partial L}{\\partial b_y} = \\sum_{t=0}^T{\\left[\\frac{\\partial L_t}{\\partial \\hat{y}_t}\\frac{\\partial \\hat{y}_t}{\\partial b_y}\\right]}$\n",
    "* [ ] $\\frac{\\partial L}{\\partial b_y} = \\sum_{t=0}^T{\\left[\\frac{\\partial L_t}{\\partial \\hat{y}_t}\\frac{\\partial \\hat{y}_t}{\\partial h_t}\\frac{\\partial h_t}{\\partial b_y}\\right]}$\n",
    "* [ ] $\\frac{\\partial L}{\\partial b_y} = \\sum_{t=0}^T{\\left[\\frac{\\partial L_t}{\\partial \\hat{y}_t}\\frac{\\partial \\hat{y}_t}{\\partial h_t}\\sum_{k=0}^t{\\frac{\\partial h_k}{\\partial b_y}}\\right]}$\n",
    "* [ ] $\\frac{\\partial L}{\\partial b_y} = \\sum_{t=0}^T{\\left[\\frac{\\partial L_t}{\\partial \\hat{y}_t}\\frac{\\partial \\hat{y}_t}{\\partial h_t}\\sum_{k=0}^t{\\left(\\prod_{i=k+1}^t{\\frac{\\partial h_i}{\\partial h_{i-1}}}\\right)\\frac{\\partial h_k}{\\partial b_y}}\\right]}$"
   ]
  },
  {
   "cell_type": "markdown",
   "metadata": {},
   "source": [
    "Consider the RNN network from the previous question. Calculate the gradient of the loss $L$ with respect to the bias vector $b_h$. $\\frac{\\partial L}{\\partial b_h} = \\bf{?}$\n",
    "* [ ] $\\frac{\\partial L}{\\partial b_h} = \\frac{\\partial L_t}{\\partial \\hat{y}_t}\\frac{\\partial \\hat{y}_t}{\\partial h_t}\\frac{\\partial h_t}{\\partial b_h}$\n",
    "* [ ] $\\frac{\\partial L}{\\partial b_h} = \\sum_{t=0}^T{\\left[\\frac{\\partial L_t}{\\partial \\hat{y}_t}\\frac{\\partial \\hat{y}_t}{\\partial h_t}\\frac{\\partial h_t}{\\partial b_h} \\right]}$\n",
    "* [ ] $\\frac{\\partial L}{\\partial b_h} = \\sum_{t=0}^T{\\left[\\frac{\\partial L_t}{\\partial \\hat{y}_t}\\frac{\\partial \\hat{y}_t}{\\partial h_t}\\sum_{k=0}^t{\\frac{\\partial h_k}{\\partial b_h}}\\right]}$\n",
    "* [x] $\\frac{\\partial L}{\\partial b_h} = \\sum_{t=0}^T{\\left[\\frac{\\partial L_t}{\\partial \\hat{y}_t}\\frac{\\partial \\hat{y}_t}{\\partial h_t}\\sum_{k=0}^t{\\left(\\prod_{i=k+1}^t{\\frac{\\partial h_i}{\\partial h_{i-1}}}\\right)\\frac{\\partial h_k}{\\partial b_h}}\\right]}$"
   ]
  },
  {
   "cell_type": "markdown",
   "metadata": {},
   "source": [
    "### Modern RNNs"
   ]
  },
  {
   "cell_type": "markdown",
   "metadata": {},
   "source": [
    "Choose correct statements about the exploding gradient problem:\n",
    "* [x] Exploding gradient problem is easy to detect.  \n",
    "    *Exploding gradients are easy to detect, not vanishing.*\n",
    "* [ ] ReLU nonlinearity helps with the exploding gradient problem.  \n",
    "    *On the contrary, it may aggravate the problem.*\n",
    "* [x] The reason of the exploding gradient problem in the simple RNN is the recurrent weight matrix $W$. Nonlinearities sigmoid, tanh, and ReLU does not cause the problem.  \n",
    "    *Derivatives of all these nonlinearities are less than 1, therefore they may cause only the vanishing gradient problem.*\n",
    "* [ ] The threshold for gradient clipping should be as low as possible to make the training more efficient.  \n",
    "    *With low threshold training is very slow therefore we should use the highest threshold which helps with the exploding gradients.*"
   ]
  },
  {
   "cell_type": "markdown",
   "metadata": {},
   "source": [
    "Choose correct statements about the vanishing gradient problem:\n",
    "* [ ] Vanishing gradient problem is easy to detect.  \n",
    "    *It is not clear how to detect vanishing gradient problem. See the lecture \"Dealing with vanishing and exploding gradients\" for the explanation.*\n",
    "* [x] Both nonlinearity and the recurrent weight matrix $W$ cause the vanishing gradient problem.\n",
    "* [x] Orthogonal initialization of the recurrent weight matrix helps with the vanishing gradient problem.\n",
    "* [ ] Truncated BPTT helps with the vanishing gradient problem.  \n",
    "    *On the contrary, it makes the gradient from faraway steps equal to zero.*"
   ]
  },
  {
   "cell_type": "markdown",
   "metadata": {},
   "source": [
    "Consider the LSTM architecture:\n",
    "$$\\begin{pmatrix}g_t\\\\i_t\\\\o_t\\\\f_t\\end{pmatrix} = \\begin{pmatrix}\\tilde f\\\\\\sigma\\\\\\sigma\\\\\\sigma\\end{pmatrix} (Vx_t + Wh_{t-1} + b)$$\n",
    "$$c_t = f_t\\cdot c_{t-1} +i_t\\cdot g_t,\\quad h_t = o_t\\cdot \\tilde f (c_{t})$$\n",
    "<img src=\"quizz-rnn-.png\" width=800px />  \n",
    "Choose correct statements about this architecture:\n",
    "* [x] The LSTM needs four times more parameters than the simple RNN.  \n",
    "    *For each gate we need its own set of parameters and there are 3 gates in the LSTM architecture.*\n",
    "* [ ] Gradients do not vanish on the way through memory cells cc in the LSTM with forget gate.  \n",
    "    *$\\frac{\\partial c_t}{\\partial c_{t-1}} = f_t$ and forget gate may take values from 0 to 1, therefore vanishing gradient problem is still posssible here and careful initialization of forget gate is needed.*\n",
    "* [ ] There is a combination of the gates values which makes the LSTM completely equivalent to the simple RNN.  \n",
    "    *The LSTM is very similar to the simple RNN when input and output gates are open and forget gate is closed. However, they are not completely equivalent because in the LSTM nonlinearity $\\tilde f$ is used twice on the way between $h_{t-1}$ to $h_t$.*\n",
    "* [x] The exploding gradient problem is still possible in LSTM on the way between $h_{t-1}$ and $h_t$.  \n",
    "    *Very large norm of $W$ may cause the exploding gradient problem. Therefore gradient clipping is useful for LSTM and GRU architectures too.*"
   ]
  },
  {
   "cell_type": "markdown",
   "metadata": {},
   "source": [
    "Consider the GRU architecture:\n",
    "$$g_t = \\tilde f\\big(V_gx_t+W_g(h_{t-1}\\cdot r_t) + b_g\\big)$$\n",
    "$$h_t = (1-u_t)\\cdot g_t+u_t\\cdot h_{t-1}$$  \n",
    "<img src=\"quizz-rnn--.png\" width=800px />  \n",
    "Which combination of the gate values makes this model equivalent to the simple RNN? Here value zero corresponds to a closed gate and value one corresponds to an open gate.\n",
    "* [ ] Both reset and update gates are open.  \n",
    "    *If update gate is open then $h_t$ does not depend on $x_t$ at all:*  \n",
    "    $h_t = (1-u_t)\\cdot g_t+u_t\\cdot h_{t-1} = h_{t-1}$\n",
    "* [ ] Both reset and update gates are closed.  \n",
    "    *In this case there is no dependence between $h_t$ and $h_{t-1}$:*  \n",
    "    $g_t = \\tilde f\\big(V_gx_t+W_g(h_{t-1}\\cdot r_t) + b_g\\big)= \\tilde f\\big(V_gx_t + b_g\\big)$  \n",
    "    $h_t = (1-u_t)\\cdot g_t+u_t\\cdot h_{t-1}= g_t$\n",
    "* [x] Reset gate is open and update gate is closed.\n",
    "* [ ] Update gate is open and reset gate is closed."
   ]
  },
  {
   "cell_type": "markdown",
   "metadata": {},
   "source": [
    "### How to use RNNs"
   ]
  },
  {
   "cell_type": "markdown",
   "metadata": {},
   "source": [
    "Consider RNNs for five different types of tasks:\n",
    "1. Element-wise sequence classification\n",
    "2. Unconditional sequence generation\n",
    "3. Sequence classification\n",
    "4. Conditional sequence generation\n",
    "5. Sequence translation  \n",
    "<img src=\"quizz-rnn-1.png\" width=800px />  \n",
    "Which of these RNNs is the most suitable one to solve the task of music generation from scratch?\n",
    "* [ ] 1_ Element-wise sequence classification  \n",
    "    *There is no input in this task.*\n",
    "* [x] 2_ Unconditional sequence generation\n",
    "* [ ] 3_ Sequence classification\n",
    "* [ ] 4_ Conditional sequence generation\n",
    "* [ ] 5_ Sequence translation"
   ]
  },
  {
   "cell_type": "markdown",
   "metadata": {},
   "source": [
    "Consider 5 different RNNs from the previous question. Which of these RNNs is the most suitable one to solve the task of music generation from notes?\n",
    "* [ ] 1_ Element-wise sequence classification\n",
    "* [ ] 2_ Unconditional sequence generation  \n",
    "    *And what about notes?*\n",
    "* [ ] 3_ Sequence classification\n",
    "* [ ] 4_ Conditional sequence generation\n",
    "* [x] 5_ Sequence translation  \n",
    "    *Yes, this is a translation from notes to audio.*"
   ]
  },
  {
   "cell_type": "markdown",
   "metadata": {},
   "source": [
    "Consider 5 different RNNs from the first question. We want to generate music from scratch and additionally, each generated sample should be from a specific instrument. Which of these RNNs is the most suitable one to solve this task?\n",
    "* [ ] 1_ Element-wise sequence classification\n",
    "* [ ] 2_ Unconditional sequence generation\n",
    "* [ ] 3_ Sequence classification\n",
    "* [x] 4_ Conditional sequence generation\n",
    "* [ ] 5_ Sequence translation"
   ]
  },
  {
   "cell_type": "markdown",
   "metadata": {},
   "source": [
    "Choose correct statements about image captioning architecture from the lecture:  \n",
    "<img src=\"quizz-rnn-2.png\" width=800px />  \n",
    "\n",
    "* [x] It is possible to train this model end-to-end without pretraining.  \n",
    "    *It is possible if we have a big enough dataset of images with captions. But in practice, the CNN part is usually pretrained on a big dataset of images without captions. The reasons are:*  \n",
    "    *1. Datasets of images without captions are much bigger and we need a lot of images to train a sophisticated CNN.*  \n",
    "    *2. Separate training of the CNN is much faster.*\n",
    "* [ ] This is a sequence-to-sequence architecture (sequence translation (5) from the first question).  \n",
    "    *This is a conditional sequence generation (4).*\n",
    "* [ ] There is no benefit in pre-training of any part of this model.  \n",
    "    *The CNN part is usually pretrained on a big dataset of images without captions. The reasons are:*  \n",
    "    *1. Datasets of images without captions are much bigger and we need a lot of images to train a sophisticated CNN.*  \n",
    "    *2. Separate training of the CNN is much faster.*\n",
    "* [x] Any CNN may be used to represent an image with a feature vector.  \n",
    "    *We can use any CNN but the stronger, the better!*"
   ]
  },
  {
   "cell_type": "markdown",
   "metadata": {},
   "source": [
    "Suppose Nick has a trained sequence-to-sequence machine translation model. He wants to generate the translation for a new sentence in the way that this translation has the highest probability in the model. To do this at each time step of the decoder he chooses the most probable next word instead of the generating from the distribution. Does this scheme guaranty that the resulting output sentence is the most probable one?\n",
    "* [ ] Yes  \n",
    "    *Unfortunately not. Let's look at a simple example. There are only two characters in the vocabulary (a and b) and we generate output sequence of length 2.*  \n",
    "    $p(x_1=a)=0.4,\\quad p(x_1=b)=0.6$  \n",
    "    $p(x_2=a|x_1=a)=0.1,\\quad p(x_2=b|x_1=a)=0.9$  \n",
    "    $p(x_2=a|x_1=b)=0.5,\\quad p(x_2=b|x_1=b)=0.5$  \n",
    "    *Nick would generate ba or bb, both of them has probability `0.6 * 0.5 = 0.3`. But the most probable one is ab with probability `0.4 * 0.9 = 0.36`.*  \n",
    "    *That is why beam search is usually used to generate more probable sequences.*\n",
    "* [x] No  \n",
    "    *Unfortunately, it is true. That is why beam search is usually used to generate more probable sequences.*"
   ]
  }
 ],
 "metadata": {
  "kernelspec": {
   "display_name": "Python 3.7 (tensorflow)",
   "language": "python",
   "name": "tensorflow"
  },
  "language_info": {
   "codemirror_mode": {
    "name": "ipython",
    "version": 3
   },
   "file_extension": ".py",
   "mimetype": "text/x-python",
   "name": "python",
   "nbconvert_exporter": "python",
   "pygments_lexer": "ipython3",
   "version": "3.7.7"
  }
 },
 "nbformat": 4,
 "nbformat_minor": 4
}
